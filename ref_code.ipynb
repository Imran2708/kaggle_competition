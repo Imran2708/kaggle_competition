{
 "cells": [
  {
   "cell_type": "markdown",
   "id": "50809f94",
   "metadata": {},
   "source": [
    "# Load the data\n"
   ]
  },
  {
   "cell_type": "code",
   "execution_count": null,
   "id": "02b2828e",
   "metadata": {},
   "outputs": [],
   "source": [
    "https://www.kaggle.com/code/liamhealy/lightgbm-hyperparameter-tuning"
   ]
  },
  {
   "cell_type": "code",
   "execution_count": null,
   "id": "8fcdc25b",
   "metadata": {},
   "outputs": [],
   "source": [
    "https://github.com/BlakSwan/Home-Credit/blob/main/home-credit-starter-eda-and-submission.ipynb\n",
    "    \n",
    "https://www.kaggle.com/code/benjenkins96/deep-learning-techniques-for-credit-risk-stability"
   ]
  },
  {
   "cell_type": "code",
   "execution_count": 1,
   "id": "f203dee3",
   "metadata": {},
   "outputs": [
    {
     "name": "stdout",
     "output_type": "stream",
     "text": [
      "Requirement already satisfied: polars in c:\\users\\virtualbox\\anaconda3\\lib\\site-packages (0.20.7)\n",
      "Requirement already satisfied: lightgbm in c:\\users\\virtualbox\\anaconda3\\lib\\site-packages (4.3.0)\n",
      "Requirement already satisfied: numpy in c:\\users\\virtualbox\\anaconda3\\lib\\site-packages (from lightgbm) (1.24.3)\n",
      "Requirement already satisfied: scipy in c:\\users\\virtualbox\\anaconda3\\lib\\site-packages (from lightgbm) (1.11.1)\n"
     ]
    }
   ],
   "source": [
    "!pip install polars\n",
    "!pip install lightgbm\n",
    "#!pip install skopt"
   ]
  },
  {
   "cell_type": "code",
   "execution_count": 2,
   "id": "5db9b017",
   "metadata": {},
   "outputs": [],
   "source": [
    "import pandas as pd\n",
    "import polars as pl\n",
    "import numpy as np\n",
    "import lightgbm as lgb\n",
    "from sklearn.model_selection import train_test_split\n",
    "from sklearn.metrics import roc_auc_score\n",
    "import seaborn as sns\n",
    "import matplotlib.pyplot as plt\n",
    "from sklearn.preprocessing import StandardScaler\n",
    "#import skopt\n",
    "import sys\n",
    "import os\n",
    "\n",
    "pd.set_option('display.max_columns', None)\n",
    "\n",
    "#dataPath = \"/kaggle/input/home-credit-credit-risk-model-stability/data/\"\n",
    "dataPath = \"C:/Users/virtualbox/Downloads/kaggle/\""
   ]
  },
  {
   "cell_type": "code",
   "execution_count": 3,
   "id": "6de9d3ef",
   "metadata": {},
   "outputs": [],
   "source": [
    "def set_table_dtypes(df: pl.DataFrame) -> pl.DataFrame:\n",
    "    # implement here all desired dtypes for tables\n",
    "    # the following is just an example\n",
    "    for col in df.columns:\n",
    "        # last letter of column name will help you determine the type\n",
    "        if col[-1] in (\"P\", \"A\"):\n",
    "            df = df.with_columns(pl.col(col).cast(pl.Float64).alias(col))\n",
    "    return df"
   ]
  },
  {
   "cell_type": "code",
   "execution_count": 4,
   "id": "d251dd1f",
   "metadata": {},
   "outputs": [],
   "source": [
    "def convert_strings(df: pd.DataFrame) -> pd.DataFrame:\n",
    "    for col in df.columns:  \n",
    "        if df[col].dtype.name in ['object', 'string']:\n",
    "            df[col] = df[col].astype(\"string\").astype('category')\n",
    "            current_categories = df[col].cat.categories\n",
    "            new_categories = current_categories.to_list() + [\"Unknown\"]\n",
    "            new_dtype = pd.CategoricalDtype(categories=new_categories, ordered=True)\n",
    "            df[col] = df[col].astype(new_dtype)\n",
    "    return df"
   ]
  },
  {
   "cell_type": "code",
   "execution_count": 5,
   "id": "176af09b",
   "metadata": {},
   "outputs": [],
   "source": [
    "def from_polars_to_pandas(case_ids: pl.DataFrame) -> pl.DataFrame:\n",
    "    return (\n",
    "        data.filter(pl.col(\"case_id\").is_in(case_ids))[[\"case_id\", \"WEEK_NUM\", \"target\"]].to_pandas(),\n",
    "        data.filter(pl.col(\"case_id\").is_in(case_ids))[cols_pred].to_pandas(),\n",
    "        data.filter(pl.col(\"case_id\").is_in(case_ids))[\"target\"].to_pandas()\n",
    "    )"
   ]
  },
  {
   "cell_type": "code",
   "execution_count": 6,
   "id": "cc4f81a4",
   "metadata": {},
   "outputs": [],
   "source": [
    "def summary(df):\n",
    "    summ = pd.DataFrame(df.dtypes, columns=['data type'])\n",
    "    summ['#total'] = df.shape[0]\n",
    "    summ['#missing'] = df.isnull().sum().values \n",
    "    summ['%missing'] = df.isnull().sum().values / len(df)* 100\n",
    "    summ['#unique'] = df.nunique().values\n",
    "    summ['#duplicates'] = summ['#total'] - summ['#unique']\n",
    "    desc = pd.DataFrame(df.describe(include='all').transpose())\n",
    "    summ['min'] = desc['min'].values\n",
    "    summ['max'] = desc['max'].values\n",
    "    return summ"
   ]
  },
  {
   "cell_type": "code",
   "execution_count": 7,
   "id": "8a946fe9",
   "metadata": {},
   "outputs": [],
   "source": [
    "def gini_stability(base, w_fallingrate=88.0, w_resstd=-0.5):\n",
    "    gini_in_time = base.loc[:, [\"WEEK_NUM\", \"target\", \"score\"]]\\\n",
    "        .sort_values(\"WEEK_NUM\")\\\n",
    "        .groupby(\"WEEK_NUM\")[[\"target\", \"score\"]]\\\n",
    "        .apply(lambda x: 2*roc_auc_score(x[\"target\"], x[\"score\"])-1).tolist()\n",
    "    \n",
    "    x = np.arange(len(gini_in_time))\n",
    "    y = gini_in_time\n",
    "    a, b = np.polyfit(x, y, 1)\n",
    "    y_hat = a*x + b\n",
    "    residuals = y - y_hat\n",
    "    res_std = np.std(residuals)\n",
    "    avg_gini = np.mean(gini_in_time)\n",
    "    return avg_gini + w_fallingrate * min(0, a) + w_resstd * res_std\n",
    "\n",
    "def drop_outliers(df, field_name):\n",
    "    iqr = 1.5 * (np.percentile(df[field_name], 75) - np.percentile(df[field_name], 25))\n",
    "    df.drop(df[df[field_name] > (iqr + np.percentile(df[field_name], 75))].index, inplace=True)\n",
    "    df.drop(df[df[field_name] < (np.percentile(df[field_name], 25) - iqr)].index, inplace=True)"
   ]
  },
  {
   "cell_type": "markdown",
   "id": "a16b2e2e",
   "metadata": {},
   "source": [
    "MODELLING"
   ]
  },
  {
   "cell_type": "code",
   "execution_count": 8,
   "id": "7e8cc5d6",
   "metadata": {},
   "outputs": [],
   "source": [
    "keep_vars = list(['target','case_id','date_decision','MONTH','WEEK_NUM','price_1097A',\n",
    "'mobilephncnt_593L',\n",
    "'pmtnum_254L',\n",
    "'avgdpdtolclosure24_3658938P',\n",
    "'numrejects9m_859L',\n",
    "'cntpmts24_3658933L',\n",
    "'numinstunpaidmax_3546851L',\n",
    "'eir_270L',\n",
    "'numinstlsallpaid_934L',\n",
    "'lastdelinqdate_224D',\n",
    "'maxdbddpdtollast12m_3658940P',\n",
    "'numincomingpmts_3546848L',\n",
    "'pctinstlsallpaidlate1d_3546856L',\n",
    "'maxdpdlast3m_392P',\n",
    "'monthsannuity_845L',\n",
    "'datelastinstal40dpd_247D',\n",
    "'lastrejectreason_759M',\n",
    "'pmtssum_45A',\n",
    "'education_1103M',\n",
    "'riskassesment_940T',\n",
    "'pmtaverage_3A',\n",
    "'days30_165L',\n",
    "'days360_512L',\n",
    "'days180_256L',\n",
    "'thirdquarter_1082L',\n",
    "'riskassesment_302T',\n",
    "'days120_123L',\n",
    "'firstquarter_103L',\n",
    "'registaddr_district_1083M',\n",
    "'education_927M',\n",
    "'mainoccupationinc_384A',\n",
    "'incometype_1044T',\n",
    "'empladdr_district_926M',\n",
    "'housetype_905L',\n",
    "'type_25L',\n",
    "'amount_416A',\n",
    "'last180dayturnover_1134A',\n",
    "'last180dayaveragebalance_704A',\n",
    "'last30dayturnover_651A',\n",
    "'dateofcredstart_739D',\n",
    "'residualamount_856A',\n",
    "'refreshdate_3813885D',\n",
    "'dateofcredstart_181D',\n",
    "'numberofoverdueinstlmax_1039L',\n",
    "'totalamount_996A',\n",
    "'dpdmaxdateyear_596T',\n",
    "'dpdmax_757P',\n",
    "'description_351M',\n",
    "'totaldebtoverduevalue_178A',\n",
    "'dpdmax_139P',\n",
    "'totalamount_6A',\n",
    "'lastupdate_1112D',\n",
    "'overdueamountmax_35A',\n",
    "'overdueamountmax2_398A',\n",
    "'totaloutstanddebtvalue_39A',\n",
    "'numberofinstls_320L',\n",
    "'numberofoverdueinstlmaxdat_148D',\n",
    "'overdueamountmax2_14A',\n",
    "'numberofcontrsvalue_258L'])\n"
   ]
  },
  {
   "cell_type": "markdown",
   "id": "3d7dbf63",
   "metadata": {},
   "source": [
    "# TRAINING DATA SET"
   ]
  },
  {
   "cell_type": "code",
   "execution_count": null,
   "id": "c1476f38",
   "metadata": {},
   "outputs": [],
   "source": [
    "### BASE TABLE\n",
    "train_basetable = pl.read_csv(dataPath + \"train/train_base.csv\")\n",
    "\n",
    "### STATICS\n",
    "train_static = pl.concat(\n",
    "    [\n",
    "        pl.read_csv(dataPath + \"train/train_static_0_0.csv\").pipe(set_table_dtypes),\n",
    "        pl.read_csv(dataPath + \"train/train_static_0_1.csv\").pipe(set_table_dtypes),\n",
    "    ],\n",
    "    how=\"vertical_relaxed\",\n",
    ")"
   ]
  },
  {
   "cell_type": "code",
   "execution_count": null,
   "id": "6f370e55",
   "metadata": {},
   "outputs": [],
   "source": [
    "### STATIC CB\n",
    "train_static_cb = pl.read_csv(dataPath + \"train/train_static_cb_0.csv\").pipe(set_table_dtypes)\n",
    "\n",
    "### PERSON 1\n",
    "train_person_1 = pl.read_csv(dataPath + \"train/train_person_1.csv\").filter((pl.col(\"num_group1\") == 0)).drop(\"num_group1\").pipe(set_table_dtypes) \n"
   ]
  },
  {
   "cell_type": "code",
   "execution_count": null,
   "id": "348e98e0",
   "metadata": {},
   "outputs": [],
   "source": [
    "### DEPOSIT 1\n",
    "train_deposit_1 = pl.read_csv(dataPath + \"train/train_deposit_1.csv\").filter((pl.col(\"num_group1\") == 0)).drop(\"num_group1\").pipe(set_table_dtypes) \n",
    "\n",
    "### DEBIT CARD 1\n",
    "train_debitcard_1 = pl.read_csv(dataPath + \"train/train_debitcard_1.csv\").filter((pl.col(\"num_group1\") == 0)).drop(\"num_group1\").pipe(set_table_dtypes) \n",
    "\n"
   ]
  },
  {
   "cell_type": "code",
   "execution_count": null,
   "id": "a396a916",
   "metadata": {},
   "outputs": [],
   "source": [
    "### APP PREV 1\n",
    "train_applprev_1 = pl.concat(\n",
    "    [\n",
    "        pl.read_csv(dataPath + \"train/train_applprev_1_0.csv\").filter((pl.col(\"num_group1\") == 0)).drop(\"num_group1\").pipe(set_table_dtypes),\n",
    "        pl.read_csv(dataPath + \"train/train_applprev_1_1.csv\").filter((pl.col(\"num_group1\") == 0)).drop(\"num_group1\").pipe(set_table_dtypes),\n",
    "    ],\n",
    "    how=\"vertical_relaxed\",\n",
    ")\n",
    "\n",
    "### OTHER 1\n",
    "train_other_1 = pl.read_csv(dataPath + \"train/train_other_1.csv\").filter((pl.col(\"num_group1\") == 0)).drop(\"num_group1\").pipe(set_table_dtypes) "
   ]
  },
  {
   "cell_type": "code",
   "execution_count": 31,
   "id": "927b040a",
   "metadata": {},
   "outputs": [
    {
     "name": "stdout",
     "output_type": "stream",
     "text": [
      "shape: (1_526_659, 5)\n",
      "┌─────────┬───────────────┬────────┬──────────┬────────┐\n",
      "│ case_id ┆ date_decision ┆ MONTH  ┆ WEEK_NUM ┆ target │\n",
      "│ ---     ┆ ---           ┆ ---    ┆ ---      ┆ ---    │\n",
      "│ i64     ┆ str           ┆ i64    ┆ i64      ┆ i64    │\n",
      "╞═════════╪═══════════════╪════════╪══════════╪════════╡\n",
      "│ 0       ┆ 2019-01-03    ┆ 201901 ┆ 0        ┆ 0      │\n",
      "│ 1       ┆ 2019-01-03    ┆ 201901 ┆ 0        ┆ 0      │\n",
      "│ 2       ┆ 2019-01-04    ┆ 201901 ┆ 0        ┆ 0      │\n",
      "│ 3       ┆ 2019-01-03    ┆ 201901 ┆ 0        ┆ 0      │\n",
      "│ 4       ┆ 2019-01-04    ┆ 201901 ┆ 0        ┆ 1      │\n",
      "│ …       ┆ …             ┆ …      ┆ …        ┆ …      │\n",
      "│ 2703450 ┆ 2020-10-05    ┆ 202010 ┆ 91       ┆ 0      │\n",
      "│ 2703451 ┆ 2020-10-05    ┆ 202010 ┆ 91       ┆ 0      │\n",
      "│ 2703452 ┆ 2020-10-05    ┆ 202010 ┆ 91       ┆ 0      │\n",
      "│ 2703453 ┆ 2020-10-05    ┆ 202010 ┆ 91       ┆ 0      │\n",
      "│ 2703454 ┆ 2020-10-05    ┆ 202010 ┆ 91       ┆ 0      │\n",
      "└─────────┴───────────────┴────────┴──────────┴────────┘\n"
     ]
    }
   ],
   "source": [
    "### CREDIT BUREAU A1\n",
    "train_credit_bureau_a_1 = pl.concat(\n",
    "    [\n",
    "        pl.read_csv(dataPath + \"train/train_credit_bureau_a_1_0.csv\").filter((pl.col(\"num_group1\") == 0)).drop(\"num_group1\").pipe(set_table_dtypes),\n",
    "        pl.read_csv(dataPath + \"train/train_credit_bureau_a_1_1.csv\").filter((pl.col(\"num_group1\") == 0)).drop(\"num_group1\").pipe(set_table_dtypes),\n",
    "        pl.read_csv(dataPath + \"train/train_credit_bureau_a_1_2.csv\").filter((pl.col(\"num_group1\") == 0)).drop(\"num_group1\").pipe(set_table_dtypes),\n",
    "        pl.read_csv(dataPath + \"train/train_credit_bureau_a_1_3.csv\").filter((pl.col(\"num_group1\") == 0)).drop(\"num_group1\").pipe(set_table_dtypes),\n",
    "    ],\n",
    "    how=\"vertical_relaxed\",\n",
    ")\n"
   ]
  },
  {
   "cell_type": "code",
   "execution_count": null,
   "id": "83da0b18",
   "metadata": {},
   "outputs": [],
   "source": [
    "### CREDIT BUREAU B1\n",
    "train_credit_bureau_b_1 = pl.read_csv(dataPath + \"csv_files/train/train_credit_bureau_b_1.csv\").filter((pl.col(\"num_group1\") == 0)).drop(\"num_group1\").pipe(set_table_dtypes)\n",
    "\n",
    "### TAX REGISTERY A1\n",
    "train_tax_registry_a_1 = pl.read_csv(dataPath + \"csv_files/train/train_tax_registry_a_1.csv\").filter((pl.col(\"num_group1\") == 0)).drop(\"num_group1\").pipe(set_table_dtypes)"
   ]
  },
  {
   "cell_type": "code",
   "execution_count": null,
   "id": "a9268ad2",
   "metadata": {},
   "outputs": [],
   "source": [
    "# JOIN TABLES TOGETHER\n",
    "data = train_basetable.join( \n",
    "    train_static, how=\"left\", on=\"case_id\").join(\n",
    "    train_static_cb, how=\"left\", on=\"case_id\").join(\n",
    "    train_person_1, how=\"left\", on=\"case_id\").join(\n",
    "    train_deposit_1, how=\"left\", on=\"case_id\").join(\n",
    "    train_debitcard_1, how=\"left\", on=\"case_id\").join(\n",
    "    train_applprev_1, how=\"left\", on=\"case_id\").join(\n",
    "    train_other_1, how=\"left\", on=\"case_id\").join(\n",
    "    train_credit_bureau_a_1, how=\"left\", on=\"case_id\").join(\n",
    "    train_credit_bureau_b_1, how=\"left\", on=\"case_id\").join(\n",
    "    train_tax_registry_a_1, how=\"left\", on=\"case_id\"\n",
    ").select(keep_vars)\n",
    "\n",
    "print(\"Done!\")\n",
    "Done!"
   ]
  },
  {
   "cell_type": "code",
   "execution_count": null,
   "id": "e6c3aa96",
   "metadata": {},
   "outputs": [],
   "source": []
  },
  {
   "cell_type": "code",
   "execution_count": null,
   "id": "fd7c593d",
   "metadata": {},
   "outputs": [],
   "source": []
  },
  {
   "cell_type": "code",
   "execution_count": null,
   "id": "ef0fca86",
   "metadata": {},
   "outputs": [],
   "source": []
  },
  {
   "cell_type": "code",
   "execution_count": null,
   "id": "6c6b7e6a",
   "metadata": {},
   "outputs": [],
   "source": []
  },
  {
   "cell_type": "code",
   "execution_count": null,
   "id": "5259f3dd",
   "metadata": {},
   "outputs": [],
   "source": []
  },
  {
   "cell_type": "code",
   "execution_count": null,
   "id": "03bcc602",
   "metadata": {},
   "outputs": [],
   "source": []
  },
  {
   "cell_type": "code",
   "execution_count": null,
   "id": "142f1aa4",
   "metadata": {},
   "outputs": [],
   "source": []
  },
  {
   "cell_type": "code",
   "execution_count": null,
   "id": "ddb8136c",
   "metadata": {},
   "outputs": [],
   "source": []
  }
 ],
 "metadata": {
  "kernelspec": {
   "display_name": "Python 3 (ipykernel)",
   "language": "python",
   "name": "python3"
  },
  "language_info": {
   "codemirror_mode": {
    "name": "ipython",
    "version": 3
   },
   "file_extension": ".py",
   "mimetype": "text/x-python",
   "name": "python",
   "nbconvert_exporter": "python",
   "pygments_lexer": "ipython3",
   "version": "3.11.5"
  }
 },
 "nbformat": 4,
 "nbformat_minor": 5
}
